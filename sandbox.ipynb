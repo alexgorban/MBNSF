{
 "cells": [
  {
   "cell_type": "code",
   "execution_count": null,
   "metadata": {},
   "outputs": [],
   "source": [
    "import numpy as np"
   ]
  },
  {
   "cell_type": "code",
   "execution_count": null,
   "metadata": {},
   "outputs": [],
   "source": [
    "# Load Data\n",
    "\n",
    "official_av_dir = '/mnt/local/argoverse/av1_traj'\n",
    "# Identical to the original\n",
    "alt_av_dir = '/usr/local/google/home/gorban/src/MBNSF/argoverse_val_50frames_corrected_masks'\n",
    "# Ego-motion compensated\n",
    "noego_av_dir = '/usr/local/google/home/gorban/src/MBNSF/argoverse_val_50frames_corrected_masks_egomotion_compensated3'\n",
    "\n",
    "log_id = '033669d3-3d6b-3d3d-bd93-7985d86653ea'\n",
    "orig = np.load(f\"{official_av_dir}/{log_id}.npz\", allow_pickle=True)\n",
    "alt = np.load(f\"{alt_av_dir}/{log_id}.npz\", allow_pickle=True)\n",
    "noego = np.load(f\"{noego_av_dir}/{log_id}.npz\", allow_pickle=True)"
   ]
  },
  {
   "cell_type": "code",
   "execution_count": null,
   "metadata": {},
   "outputs": [],
   "source": [
    "%pip install plotly"
   ]
  },
  {
   "cell_type": "code",
   "execution_count": null,
   "metadata": {},
   "outputs": [],
   "source": [
    "import plotly.graph_objects as go\n",
    "import numpy as np\n",
    "\n",
    "def plot_point_cloud(points, color, size=1.8, **kwargs):\n",
    "  return go.Scatter3d(\n",
    "      x=points[:, 0],\n",
    "      y=points[:, 1],\n",
    "      z=points[:, 2],\n",
    "      mode='markers',\n",
    "      marker=dict(size=size, color=color),\n",
    "      **kwargs,\n",
    "  )\n",
    "\n",
    "def _stack_with_none(a, b):\n",
    "  ab = np.zeros((a.shape[0], 3))\n",
    "  ab[:, 0] = a\n",
    "  ab[:, 1] = b\n",
    "  ab[:, 2] = None\n",
    "  return ab.reshape((-1,))\n",
    "\n",
    "\n",
    "def plot_flow_segments(a, b, name, **kwargs):\n",
    "  return go.Scatter3d(\n",
    "      x=_stack_with_none(a[:, 0], b[:, 0]),\n",
    "      y=_stack_with_none(a[:, 1], b[:, 1]),\n",
    "      z=_stack_with_none(a[:, 2], b[:, 2]),\n",
    "      name=name,\n",
    "      mode='lines',\n",
    "      line=kwargs,\n",
    "  )"
   ]
  },
  {
   "cell_type": "code",
   "execution_count": null,
   "metadata": {},
   "outputs": [],
   "source": [
    "# No ego motion compensation\n",
    "p0_t0 = orig['pcs'][0]\n",
    "f0_t0 = orig['flos'][0]\n",
    "p1_t1 = orig['pcs'][1]\n",
    "p0_t1 = p0_t0 + f0_t0\n",
    "\n",
    "fig = go.Figure(\n",
    "    data=(\n",
    "        plot_point_cloud(p0_t0, color=\"red\", size=1.3, name=\"#0\"),\n",
    "        plot_point_cloud(p1_t1, color=\"blue\", size=1.3, name=\"#1\"),\n",
    "        plot_flow_segments(p0_t0, p0_t1, color=\"green\", name=\"#0 -> #1\")\n",
    "    ),\n",
    "    layout=dict(\n",
    "        width=1500,\n",
    "        height=1200,\n",
    "        scene=dict(aspectmode='data'),\n",
    "    )\n",
    ")\n",
    "fig.show()"
   ]
  },
  {
   "cell_type": "code",
   "execution_count": null,
   "metadata": {},
   "outputs": [],
   "source": [
    "from matplotlib import pylab as plt\n",
    "\n",
    "flow_norm = np.linalg.norm(f0_t0, axis=-1)\n",
    "pfig, ax = plt.subplots(figsize=(20, 5))\n",
    "_ = ax.hist(flow_norm, bins=100)"
   ]
  },
  {
   "cell_type": "code",
   "execution_count": null,
   "metadata": {},
   "outputs": [],
   "source": [
    "# With ego motion compensation\n",
    "i = 0\n",
    "p0_t0 = noego['pcs'][i]\n",
    "f0_t0 = noego['flows'][i]\n",
    "p1_t1 = noego['pcs'][i+1]\n",
    "p0_t1 = p0_t0 + f0_t0\n",
    "\n",
    "fig = go.Figure(\n",
    "    data=(\n",
    "        plot_point_cloud(p0_t0, color=\"red\", size=1.3, name=\"#0\"),\n",
    "        plot_point_cloud(p1_t1, color=\"blue\", size=1.3, name=\"#1\"),\n",
    "        plot_flow_segments(p0_t0, p0_t1, color=\"green\", name=\"#0 -> #1\")\n",
    "    ),\n",
    "    layout=dict(\n",
    "        width=1500,\n",
    "        height=1200,\n",
    "        scene=dict(aspectmode='data'),\n",
    "    )\n",
    ")\n",
    "fig.show()"
   ]
  },
  {
   "cell_type": "code",
   "execution_count": null,
   "metadata": {},
   "outputs": [],
   "source": [
    "flow_norm = np.linalg.norm(f0_t0, axis=-1)\n",
    "pfig, ax = plt.subplots(figsize=(20, 5))\n",
    "_ = ax.hist(flow_norm, bins=100)"
   ]
  },
  {
   "cell_type": "code",
   "execution_count": null,
   "metadata": {},
   "outputs": [],
   "source": [
    "import numpy as np\n",
    "\n",
    "npz_path = \"/mnt/local/argoverse/av1_traj_w_pose_egomotion/00c561b9-2057-358d-82c6-5b06d76cebcf.npz\"\n",
    "data = np.load(npz_path, allow_pickle=True)\n",
    "print(list(data.keys()))"
   ]
  },
  {
   "cell_type": "code",
   "execution_count": null,
   "metadata": {},
   "outputs": [],
   "source": []
  }
 ],
 "metadata": {
  "kernelspec": {
   "display_name": "Python 3 (ipykernel)",
   "language": "python",
   "name": "python3"
  },
  "language_info": {
   "codemirror_mode": {
    "name": "ipython",
    "version": 3
   },
   "file_extension": ".py",
   "mimetype": "text/x-python",
   "name": "python",
   "nbconvert_exporter": "python",
   "pygments_lexer": "ipython3",
   "version": "3.8.18"
  }
 },
 "nbformat": 4,
 "nbformat_minor": 4
}
